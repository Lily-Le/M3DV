{
 "cells": [
  {
   "cell_type": "code",
   "execution_count": 1,
   "metadata": {},
   "outputs": [],
   "source": [
    "import sys\n",
    "kaggle_path_prefix = \"../input/mylibrary/\"\n",
    "sys.path.append(kaggle_path_prefix)"
   ]
  },
  {
   "cell_type": "code",
   "execution_count": 2,
   "metadata": {},
   "outputs": [],
   "source": [
    "from mylibrary.models.misc import set_gpu_usage\n",
    "\n",
    "set_gpu_usage()\n",
    "from mylibrary.dataloader import dataset1\n",
    "from mylibrary.dataloader.dataset import ClfSegDataset, get_balanced_loader, get_loader\n",
    "#from mylibrary.dataloader.dataset import get_balanced_loader, get_loader\n",
    "from mylibrary.models import densesharp, metrics, losses\n",
    "from mylibrary import densenet\n",
    "#from mylibrary.dataloader import dataset1\n",
    "from tensorflow.keras.callbacks import ModelCheckpoint, CSVLogger, TensorBoard, EarlyStopping, ReduceLROnPlateau\n",
    "from tensorflow.keras.optimizers import Adam\n",
    "from mylibrary.dataloader.dataset import Transform\n",
    "\n",
    "batch_sizes=[3, 5, 8, 8]\n",
    "crop_size=[32, 32, 32]\n",
    "random_move=3\n",
    "learning_rate=1.e-6\n",
    "segmentation_task_ratio=0.2\n",
    "weight_decay=0.01\n",
    "save_folder='TrainedModel\\densenet'\n",
    "epochs=100\n"
   ]
  },
  {
   "cell_type": "code",
   "execution_count": 3,
   "metadata": {},
   "outputs": [
    {
     "name": "stdout",
     "output_type": "stream",
     "text": [
      "(465, 32, 32, 32, 1)\n",
      "seg shape (465, 32, 32, 32, 1)\n",
      "(465, 2)\n",
      "(445, 2)\n"
     ]
    },
    {
     "name": "stderr",
     "output_type": "stream",
     "text": [
      "Using TensorFlow backend.\n"
     ]
    }
   ],
   "source": [
    "#得到训练数据\n",
    "import os\n",
    "import numpy as np\n",
    "import pandas as pd\n",
    "train_info=pd.read_csv(\"../input/train-data/train_val.csv\")\n",
    "train_nodule_path=\"../input/train-data/train_val/\"\n",
    "name = train_info.loc[:, 'name']\n",
    "y_train=train_info.loc[:, 'label']\n",
    "train_num=len(name)\n",
    "xs = np.empty((train_num,*(32,32,32), 1))\n",
    "segs=np.empty((train_num,*(32,32,32), 1))\n",
    "\n",
    "for i in range(train_num):\n",
    "        with np.load(os.path.join(train_nodule_path, '%s.npz' % name[i])) as npz:\n",
    "            voxel=npz['voxel'][34:66,34:66,34:66]\n",
    "            seg=npz['seg'][34:66,34:66,34:66]\n",
    "            voxel=np.expand_dims(voxel,axis=-1)\n",
    "            seg=np.expand_dims(seg,axis=-1)\n",
    "            \n",
    "            xs[i,]=voxel\n",
    "            segs[i,]=seg\n",
    "x_train=xs\n",
    "x_train_seg=segs\n",
    "print(x_train.shape)\n",
    "print('seg shape',x_train_seg.shape)\n",
    "#np.save('x_test.npy',x_test)\n",
    "xseg_train=x_train*x_train_seg\n",
    "\n",
    "from keras.utils import to_categorical\n",
    "y_train=to_categorical(y_train,2)\n",
    "print(y_train.shape )\n",
    "num=445\n",
    "x_all2=x_train*x_train_seg\n",
    "y_all=y_train\n",
    "x_all_seg=x_train_seg\n",
    "xseg_train=x_all2[0:num].copy()\n",
    "yseg_train=y_train[0:num].copy()\n",
    "print(yseg_train.shape)\n"
   ]
  },
  {
   "cell_type": "code",
   "execution_count": null,
   "metadata": {},
   "outputs": [],
   "source": [
    "#得到测试数据\n",
    "import numpy as np\n",
    "#x_all=np.load('../input/train-data/x_all.npy')\n",
    "#y_all_orig=np.load('../input/train-data/y_all.npy')\n",
    "from tensorflow.keras.utils import to_categorical\n",
    "#y_all=to_categorical(y_all_orig,2)\n",
    "all_num=len(y_all)\n",
    "#print(x_all.shape)\n",
    "\n",
    "num=all_num-0\n",
    "\n",
    "#x_train=x_all[0:num].copy()\n",
    "#y_train=y_all[0:num].copy()\n",
    "\n",
    "x_test=np.load('../input/train-data/x_test.npy')\n",
    "\n",
    "#x_all_seg=np.load('../input/train-data/x_all_seg.npy')\n",
    "x_test_seg=np.load('../input/train-data/x_test_seg.npy')\n",
    "print(x_all_seg.shape)\n",
    "#x_all2=x_all*x_all_seg\n",
    "xseg_test=x_test*x_test_seg\n",
    "\n",
    "#xseg_train=x_all2[0:num].copy()\n",
    "#yseg_train=y_all[0:num].copy()\n"
   ]
  },
  {
   "cell_type": "code",
   "execution_count": null,
   "metadata": {},
   "outputs": [],
   "source": [
    "#数据增强\n",
    "from mylibrary import augmentation\n",
    "all_num=465\n",
    "num=all_num-0\n",
    "\n",
    "index1=np.random.randint(0,num,200)\n",
    "index2=np.random.randint(0,num,200)\n",
    "index3=np.random.randint(0,num,200)\n",
    "\n",
    "\n",
    "'''\n",
    "x_train2=x_all2[index1].copy()\n",
    "y_train2=y_all[index1].copy()\n",
    "seg2=x_all_seg[index1].copy()\n",
    "x_train3=x_all2[index2].copy()\n",
    "y_train3=y_all[index2].copy()\n",
    "seg3=x_all_seg[index2].copy()\n",
    "x_train4=x_all2[index3].copy()\n",
    "y_train4=y_all[index3].copy()\n",
    "seg4=x_all_seg[index3].copy()\n",
    "'''\n",
    "\n",
    "x_train2=x_all2[0:num].copy()\n",
    "y_train2=y_all[0:num].copy()\n",
    "seg2=x_all_seg[0:num].copy()\n",
    "x_train3=x_all2[0:num].copy()\n",
    "y_train3=y_all[0:num].copy()\n",
    "seg3=x_all_seg[0:num].copy()\n",
    "x_train4=x_all2[0:num].copy()\n",
    "y_train4=y_all[0:num].copy()\n",
    "seg4=x_all_seg[0:num].copy()\n",
    "\n",
    "x_train2,y_train2,seg2=argumentation.flip_dim1(x_train2,y_train2,seg2)\n",
    "x_train2,y_train2,seg2=argumentation.flip_dim2(x_train2,y_train2,seg2)\n",
    "\n",
    "x_train3,y_train3,seg3=argumentation.flip_dim2(x_train3,y_train3,seg3)\n",
    "x_train3,y_train3,seg3=argumentation.flip_dim3(x_train3,y_train3,seg3)\n",
    "\n",
    "x_train4,y_train4,seg4=argumentation.flip_dim3(x_train4,y_train4,seg4)\n",
    "x_train4,y_train4,seg4=argumentation.flip_dim1(x_train4,y_train4,seg4)\n",
    "\n",
    "\n",
    "#x_train_mix,y_train_mix,seg_mix=argumentation.mix_up(x_all2[0:num],y_all[0:num],x_all_seg[0:num],0.2,300)\n",
    "\n",
    "print(y_all.shape)\n",
    "#x_train=x_train*seg_train\n",
    "arg_x1=np.concatenate((x_train2,x_train3,x_train4))\n",
    "arg_y1=np.concatenate((y_train2,y_train3,y_train4))\n",
    "arg_seg=np.concatenate((seg2,seg3,seg4))\n",
    "\n",
    "index = [i for i in range(num*3)]\n",
    "# 下面这种写法也可以\n",
    "# index = np.arange(len(dataset))\n",
    "np.random.shuffle(index) # 打乱索引\n",
    "\n",
    "arg_x1 = arg_x1[index]\n",
    "arg_y1 = arg_y1[index]\n",
    "arg_seg = arg_seg[index]\n",
    "#x_train_mix2,y_train_mix2,seg_mix2=argumentation.mix_up(arg_x1,arg_y1,arg_seg,0.7,800)\n",
    "\n",
    "#arg_x1=np.concatenate((x_train2,x_train3,x_train4))\n",
    "#arg_y1=np.concatenate((y_train2,y_train3,y_train4))\n",
    "\n",
    "print(arg_x1.shape)\n",
    "print(arg_y1.shape)\n",
    "#print(arg_y2[60])\n",
    "#print(arg_x2[60][15][:][15][0])\n",
    "\n",
    "\"\"\"\n",
    "x_train2,y_train2=argumentation.flip_dim1(x_all,y_all)\n",
    "x_train3,y_train3=argumentation.flip_dim2(x_all,y_all)\n",
    "x_train4,y_train4=argumentation.flip_dim3(x_all,y_all)\n",
    "\n",
    "x_train2,y_train2=argumentation.flip_dim2(x_train2,y_train2)\n",
    "x_train3,y_train3=argumentation.flip_dim3(x_train3,y_train3)\n",
    "x_train4,y_train4=argumentation.flip_dim1(x_train4,y_train4)\n",
    "arg_x3=np.concatenate((x_train2,x_train3,x_train4))\n",
    "arg_y3=np.concatenate((y_train2,y_train3,y_train4))\n",
    "\"\"\""
   ]
  },
  {
   "cell_type": "code",
   "execution_count": null,
   "metadata": {},
   "outputs": [],
   "source": [
    "from mylibrary.utils.misc import plot_voxel_enhance\n",
    "m=53\n",
    "'''\n",
    "b=x_all[m]\n",
    "a=x_all[m]*x_all_seg[m]\n",
    "d=x_all_seg[m]\n",
    "c=x_all2[m]\n",
    "e=x_test[m]\n",
    "f=x_test_seg[m]\n",
    "'''\n",
    "#x_all2[90];\n",
    "plot_voxel_enhance(arg_x1[799].squeeze(),arg_seg[799].squeeze(),alpha=0.2)"
   ]
  },
  {
   "cell_type": "code",
   "execution_count": null,
   "metadata": {},
   "outputs": [],
   "source": [
    "#标签平滑\n",
    "def label_smoothing(inputs, epsilon=0.1):\n",
    "    K= inputs.shape[-1]# number of channels\n",
    "    return ((1-epsilon) * inputs) + (epsilon / K)\n"
   ]
  },
  {
   "cell_type": "code",
   "execution_count": null,
   "metadata": {},
   "outputs": [],
   "source": [
    "y_trainst=label_smoothing(yseg_train)\n",
    "print(y_trainst[1])"
   ]
  },
  {
   "cell_type": "code",
   "execution_count": null,
   "metadata": {},
   "outputs": [],
   "source": [
    "# aucroc指标\n",
    "from tensorflow.keras import backend as K\n",
    "from sklearn.metrics import roc_auc_score\n",
    "import tensorflow as tf\n",
    "# AUC for a binary classifier\n",
    "def auc(y_true, y_pred):\n",
    "    ptas = tf.stack([binary_PTA(y_true,y_pred,k) for k in np.linspace(0, 1, 1000)],axis=0)\n",
    "    pfas = tf.stack([binary_PFA(y_true,y_pred,k) for k in np.linspace(0, 1, 1000)],axis=0)\n",
    "    pfas = tf.concat([tf.ones((1,)) ,pfas],axis=0)\n",
    "    binSizes = -(pfas[1:]-pfas[:-1])\n",
    "    s = ptas * binSizes\n",
    "    return K.sum(s, axis=0)\n",
    "#-----------------------------------------------------------------------------------------------------------------------------------------------------\n",
    "# PFA, prob false alert for binary classifier\n",
    "def binary_PFA(y_true, y_pred, threshold=K.variable(value=0.5)):\n",
    "    y_pred = K.cast(y_pred >= threshold, 'float32')\n",
    "    # N = total number of negative labels\n",
    "    N = K.sum(1 - y_true)\n",
    "    # FP = total number of false alerts, alerts from the negative class labels\n",
    "    FP = K.sum(y_pred - y_pred * y_true)\n",
    "    return FP/N\n",
    "#-----------------------------------------------------------------------------------------------------------------------------------------------------\n",
    "# P_TA prob true alerts for binary classifier\n",
    "def binary_PTA(y_true, y_pred, threshold=K.variable(value=0.5)):\n",
    "    y_pred = K.cast(y_pred >= threshold, 'float32')\n",
    "    # P = total number of positive labels\n",
    "    P = K.sum(y_true)\n",
    "    # TP = total number of correct alerts, alerts from the positive class labels\n",
    "    TP = K.sum(y_pred * y_true)\n",
    "    return TP/P\n"
   ]
  },
  {
   "cell_type": "code",
   "execution_count": null,
   "metadata": {},
   "outputs": [],
   "source": [
    "#另一种得到增强数据的方式；借助densesharpdataset 中的数据增强\n",
    "batch_size = sum(batch_sizes)\n",
    "\n",
    "train_dataset1 = ClfSegDataset(crop_size=crop_size, subset=[ 0,1, 2, 3], move=random_move,\n",
    "                                  define_label=lambda l: [l[0] ,l[1]])\n",
    "train_dataset2= ClfSegDataset(crop_size=crop_size, subset=[ 0,1, 2, 3], move=random_move,\n",
    "                                  define_label=lambda l: [l[0] ,l[1]])\n",
    "val_dataset = ClfSegDataset(crop_size=crop_size, subset=[4,5], move=None,\n",
    "                                define_label=lambda l: [l[0] , l[1]])\n",
    "\n",
    "#train_loader = get_balanced_loader(train_dataset, batch_sizes=batch_sizes)\n",
    "#val_loader = get_loader(val_dataset, batch_size=batch_size)"
   ]
  },
  {
   "cell_type": "code",
   "execution_count": null,
   "metadata": {},
   "outputs": [],
   "source": [
    "clf_seg_dataset1 = dataset1.ClfSegDataset(crop_size=32, subset=[1,2,3,0], move=random_move)\n",
    "clf_seg_dataset2 = dataset1.ClfSegDataset(crop_size=32, subset=[1,2,3,0], move=random_move)"
   ]
  },
  {
   "cell_type": "code",
   "execution_count": null,
   "metadata": {},
   "outputs": [],
   "source": [
    "import numpy as np\n",
    "train_num=len(clf_seg_dataset1)\n",
    "x_train1= np.ones((train_num,32,32,32,1))\n",
    "y_train1= np.ones((train_num,1))\n",
    "seg_train1=np.ones((train_num,32,32,32,1))\n",
    "print(x_train1.shape)\n",
    "i=0\n",
    "while i<train_num:\n",
    "    x_train1[i],(y_train1[i],seg_train1[i])=clf_seg_dataset1[i]\n",
    "    i+=1\n",
    "\n",
    "from keras.utils import to_categorical\n",
    "y_train1=to_categorical(y_train1,2)\n",
    "print(y_train1[0])"
   ]
  },
  {
   "cell_type": "code",
   "execution_count": null,
   "metadata": {},
   "outputs": [],
   "source": [
    "import numpy as np\n",
    "train_num=len(clf_seg_dataset2)\n",
    "x_train2= np.ones((train_num,32,32,32,1))\n",
    "y_train2= np.ones((train_num,1))\n",
    "seg_train2=np.ones((train_num,32,32,32,1))\n",
    "print(x_train2.shape)\n",
    "i=0\n",
    "while i<train_num:\n",
    "    x_train2[i],(y_train2[i],seg_train2[i])=clf_seg_dataset2[i]\n",
    "    i+=1\n",
    "\n",
    "from keras.utils import to_categorical\n",
    "y_train2=to_categorical(y_train2,2)"
   ]
  },
  {
   "cell_type": "code",
   "execution_count": null,
   "metadata": {},
   "outputs": [],
   "source": [
    "x_train_mix,y_train_mix,seg_mix=argumentation.mix_up(arg_x1,arg_y1,arg_seg,0.7,1200)"
   ]
  },
  {
   "cell_type": "code",
   "execution_count": null,
   "metadata": {},
   "outputs": [],
   "source": [
    "arg_x1=np.concatenate((x_train1,x_train2))\n",
    "arg_y1=np.concatenate((y_train1,y_train2))\n",
    "arg_seg=np.concatenate((seg_train1,seg_train2))\n",
    "#x_train_mix,y_train_mix,seg_mix=argumentation.mix_up(x_all2[0:num],y_all[0:num],x_all_seg[0:num],0.7,200)\n",
    "print(arg_x1.shape)\n",
    "print(arg_y1.shape)"
   ]
  },
  {
   "cell_type": "code",
   "execution_count": null,
   "metadata": {},
   "outputs": [],
   "source": [
    "#编译densenet\n",
    "import tensorflow as tf\n",
    "densenet_model = densenet.get_compiled()"
   ]
  },
  {
   "cell_type": "code",
   "execution_count": null,
   "metadata": {},
   "outputs": [],
   "source": [
    "#编译densesharp\n",
    "learning_rate=1.e-3\n",
    "segmentation_task_ratio=0.1\n",
    "weight_decay=0.01\n",
    "dropout_rate=0.0001\n",
    "densesharp_model = densesharp.get_compiled(output_size=2,dropout_rate=dropout_rate,\n",
    "                                    optimizer=Adam(lr=learning_rate),\n",
    "                                    loss={\"clf\": 'categorical_crossentropy',\n",
    "                                          \"seg\": losses.DiceLoss()},\n",
    "                                    metrics={'clf': ['accuracy', metrics.precision, metrics.recall, metrics.fmeasure,\n",
    "                                                     metrics.invasion_acc, metrics.invasion_fmeasure,\n",
    "                                                     metrics.invasion_precision, metrics.invasion_recall,\n",
    "                                                     metrics.ia_acc, metrics.ia_fmeasure,\n",
    "                                                     metrics.ia_precision, metrics.ia_recall],\n",
    "                                             'seg': [metrics.precision, metrics.recall, metrics.fmeasure]},\n",
    "                                    loss_weights={\"clf\": 1., \"seg\": segmentation_task_ratio},\n",
    "                                    weight_decay=weight_decay)"
   ]
  },
  {
   "cell_type": "code",
   "execution_count": null,
   "metadata": {},
   "outputs": [],
   "source": [
    "\n",
    "checkpointer = ModelCheckpoint(filepath='../output/densenet/model/epo-{epoch:02d}-acc-{categorical_accuracy:.2f}-val-{val_categorical_accuracy:.2f}.hdf5', verbose=1,\n",
    "                                   period=1, save_weights_only=False)\n",
    "#checkpointer = ModelCheckpoint(filepath='tmp/%s/weights.{epoch:02d}.h5' % save_folder, verbose=1,\n",
    " #                                  period=1, save_weights_only=False)\n",
    "best_keeper = ModelCheckpoint(filepath='best.h5' , verbose=1, save_weights_only=False,\n",
    "                                  monitor='val_clf_acc', save_best_only=True, period=1, mode='max')\n",
    "#csv_logger = CSVLogger('tmp\\%s\\training.csv' % save_folder)\n",
    "csv_logger = CSVLogger('training.csv')\n",
    "\n",
    "tensorboard = TensorBoard(log_dir='../output/densenet/logs')\n",
    "early_stopping = EarlyStopping(monitor='val_clf_acc', min_delta=0, mode='max',\n",
    "                                   patience=30, verbose=1)\n",
    "lr_reducer = ReduceLROnPlateau(monitor='val_loss', factor=0.334, patience=10,\n",
    "                                   verbose=1, mode='min', epsilon=1.e-5, cooldown=2, min_lr=0)\n"
   ]
  },
  {
   "cell_type": "code",
   "execution_count": 5,
   "metadata": {},
   "outputs": [],
   "source": [
    "\n",
    "#file_path= \"./den-seg-base0arg0-epo-03-acc-0.70-val-0.71.hdf5\"\n",
    "file_path= \"den-seg-epo-{epoch:02d}-acc-{categorical_accuracy:.2f}-val-{val_categorical_accuracy:.2f}.hdf5\"\n",
    "\n",
    "checkpoint = ModelCheckpoint(filepath=file_path, monitor='val_categorical_accuracy', verbose=1, save_best_only=True,mode='auto')\n",
    "tensorboard =TensorBoard(log_dir=\"densenet/log\")\n",
    "callback_lists=[tensorboard,checkpoint]"
   ]
  },
  {
   "cell_type": "code",
   "execution_count": null,
   "metadata": {},
   "outputs": [],
   "source": [
    "#训练\n",
    "net_history2=densenet_model.fit(xseg_train[0:num],y_trainst,validation_split=0.3,epochs=30,verbose=1,batch_size=64,\n",
    "                                        # callbacks=[checkpoint, early_stopping, best_keeper, lr_reducer, csv_logger, tensorboard])\n",
    "                        callbacks=[checkpoint,RocAuc,early_stopping])"
   ]
  },
  {
   "cell_type": "code",
   "execution_count": null,
   "metadata": {},
   "outputs": [],
   "source": [
    "\n",
    "net_history3=densenet_model.fit(x_all2,y_all,validation_data=(x_all2,y_all),epochs=40,verbose=1,batch_size=32,\n",
    "                                         #callbacks=[checkpoint, early_stopping, best_keeper, lr_reducer, csv_logger, tensorboard])\n",
    "                        callbacks=[checkpoint,tensorboard])"
   ]
  },
  {
   "cell_type": "code",
   "execution_count": null,
   "metadata": {},
   "outputs": [],
   "source": [
    "print(xseg_train.shape)\n",
    "print(yseg_train.shape)"
   ]
  },
  {
   "cell_type": "code",
   "execution_count": 6,
   "metadata": {},
   "outputs": [],
   "source": [
    "#sharp\n",
    "file_path= \"denp-seg-epo-{epoch:02d}-acc-{clf_accuracy:.2f}-val-{val_clf_accuracy:.2f}.hdf5\"\n",
    "#file_path= \"den-seg-base-epo-{epoch:02d}-acc-{categorical_accuracy:.2f}.hdf5\"\n",
    "\n",
    "checkpoint = ModelCheckpoint(filepath=file_path, monitor='val_clf_accuracy', verbose=1, save_best_only=True,mode='auto')\n",
    "tensorboard =TensorBoard(log_dir=\"densesharp/log\")\n",
    "callback_lists=[tensorboard,checkpoint]"
   ]
  },
  {
   "cell_type": "code",
   "execution_count": 7,
   "metadata": {
    "collapsed": true,
    "jupyter": {
     "outputs_hidden": true
    }
   },
   "outputs": [
    {
     "name": "stdout",
     "output_type": "stream",
     "text": [
      "Train on 464 samples, validate on 464 samples\n",
      "Epoch 1/40\n",
      "448/464 [===========================>..] - ETA: 0s - loss: 0.6515 - clf_loss: 0.7422 - seg_loss: -0.4536 - clf_accuracy: 0.5692 - clf_precision: 0.5692 - clf_recall: 0.5692 - clf_fmeasure: 0.5692 - seg_precision: 0.6120 - seg_recall: 0.8855 - seg_fmeasure: 0.6914\n",
      "Epoch 00001: val_clf_accuracy improved from -inf to 0.54095, saving model to denp-seg-epo-01-acc-0.57-val-0.54.hdf5\n",
      "464/464 [==============================] - 25s 53ms/sample - loss: 0.6443 - clf_loss: 0.7332 - seg_loss: -0.4780 - clf_accuracy: 0.5733 - clf_precision: 0.5771 - clf_recall: 0.5771 - clf_fmeasure: 0.5771 - seg_precision: 0.6341 - seg_recall: 0.8878 - seg_fmeasure: 0.7074 - val_loss: 0.8187 - val_clf_loss: 0.8881 - val_seg_loss: -0.3717 - val_clf_accuracy: 0.5409 - val_clf_precision: 0.5437 - val_clf_recall: 0.5437 - val_clf_fmeasure: 0.5437 - val_seg_precision: 0.9930 - val_seg_recall: 0.6357 - val_seg_fmeasure: 0.7690\n",
      "Epoch 2/40\n",
      "448/464 [===========================>..] - ETA: 0s - loss: 0.4635 - clf_loss: 0.6364 - seg_loss: -0.8645 - clf_accuracy: 0.6205 - clf_precision: 0.6205 - clf_recall: 0.6205 - clf_fmeasure: 0.6205 - seg_precision: 0.9026 - seg_recall: 0.9667 - seg_fmeasure: 0.9323\n",
      "Epoch 00002: val_clf_accuracy did not improve from 0.54095\n",
      "464/464 [==============================] - 11s 23ms/sample - loss: 0.4664 - clf_loss: 0.6426 - seg_loss: -0.8672 - clf_accuracy: 0.6228 - clf_precision: 0.6250 - clf_recall: 0.6250 - clf_fmeasure: 0.6250 - seg_precision: 0.9068 - seg_recall: 0.9649 - seg_fmeasure: 0.9336 - val_loss: 1.4449 - val_clf_loss: 1.4376 - val_seg_loss: -0.0044 - val_clf_accuracy: 0.5323 - val_clf_precision: 0.5354 - val_clf_recall: 0.5354 - val_clf_fmeasure: 0.5354 - val_seg_precision: 1.0000 - val_seg_recall: 4.9973e-04 - val_seg_fmeasure: 9.9857e-04\n",
      "Epoch 3/40\n",
      "448/464 [===========================>..] - ETA: 0s - loss: 0.4479 - clf_loss: 0.6292 - seg_loss: -0.9066 - clf_accuracy: 0.6473 - clf_precision: 0.6473 - clf_recall: 0.6473 - clf_fmeasure: 0.6473 - seg_precision: 0.9674 - seg_recall: 0.9421 - seg_fmeasure: 0.9531\n",
      "Epoch 00003: val_clf_accuracy improved from 0.54095 to 0.54526, saving model to denp-seg-epo-03-acc-0.65-val-0.55.hdf5\n",
      "464/464 [==============================] - 11s 24ms/sample - loss: 0.4487 - clf_loss: 0.6310 - seg_loss: -0.9070 - clf_accuracy: 0.6466 - clf_precision: 0.6458 - clf_recall: 0.6458 - clf_fmeasure: 0.6458 - seg_precision: 0.9658 - seg_recall: 0.9445 - seg_fmeasure: 0.9536 - val_loss: 0.8133 - val_clf_loss: 0.8530 - val_seg_loss: -0.2178 - val_clf_accuracy: 0.5453 - val_clf_precision: 0.5479 - val_clf_recall: 0.5479 - val_clf_fmeasure: 0.5479 - val_seg_precision: 1.0000 - val_seg_recall: 0.3066 - val_seg_fmeasure: 0.4670\n",
      "Epoch 4/40\n",
      "448/464 [===========================>..] - ETA: 0s - loss: 0.4397 - clf_loss: 0.6271 - seg_loss: -0.9371 - clf_accuracy: 0.6496 - clf_precision: 0.6496 - clf_recall: 0.6496 - clf_fmeasure: 0.6496 - seg_precision: 0.9809 - seg_recall: 0.9645 - seg_fmeasure: 0.9726\n",
      "Epoch 00004: val_clf_accuracy did not improve from 0.54526\n",
      "464/464 [==============================] - 11s 23ms/sample - loss: 0.4357 - clf_loss: 0.6195 - seg_loss: -0.9375 - clf_accuracy: 0.6573 - clf_precision: 0.6646 - clf_recall: 0.6646 - clf_fmeasure: 0.6646 - seg_precision: 0.9809 - seg_recall: 0.9651 - seg_fmeasure: 0.9729 - val_loss: 0.6912 - val_clf_loss: 0.7384 - val_seg_loss: -0.2474 - val_clf_accuracy: 0.5323 - val_clf_precision: 0.5354 - val_clf_recall: 0.5354 - val_clf_fmeasure: 0.5354 - val_seg_precision: 1.0000 - val_seg_recall: 0.2915 - val_seg_fmeasure: 0.4505\n",
      "Epoch 5/40\n",
      "448/464 [===========================>..] - ETA: 0s - loss: 0.4286 - clf_loss: 0.6180 - seg_loss: -0.9469 - clf_accuracy: 0.6786 - clf_precision: 0.6786 - clf_recall: 0.6786 - clf_fmeasure: 0.6786 - seg_precision: 0.9846 - seg_recall: 0.9660 - seg_fmeasure: 0.9750\n",
      "Epoch 00005: val_clf_accuracy did not improve from 0.54526\n",
      "464/464 [==============================] - 11s 23ms/sample - loss: 0.4361 - clf_loss: 0.6323 - seg_loss: -0.9458 - clf_accuracy: 0.6703 - clf_precision: 0.6625 - clf_recall: 0.6625 - clf_fmeasure: 0.6625 - seg_precision: 0.9854 - seg_recall: 0.9634 - seg_fmeasure: 0.9740 - val_loss: 0.6553 - val_clf_loss: 0.7604 - val_seg_loss: -0.5398 - val_clf_accuracy: 0.5323 - val_clf_precision: 0.5354 - val_clf_recall: 0.5354 - val_clf_fmeasure: 0.5354 - val_seg_precision: 0.9988 - val_seg_recall: 0.7612 - val_seg_fmeasure: 0.8618\n",
      "Epoch 6/40\n",
      "448/464 [===========================>..] - ETA: 0s - loss: 0.4466 - clf_loss: 0.6378 - seg_loss: -0.9561 - clf_accuracy: 0.6429 - clf_precision: 0.6429 - clf_recall: 0.6429 - clf_fmeasure: 0.6429 - seg_precision: 0.9859 - seg_recall: 0.9773 - seg_fmeasure: 0.9815\n",
      "Epoch 00006: val_clf_accuracy did not improve from 0.54526\n",
      "464/464 [==============================] - 11s 23ms/sample - loss: 0.4428 - clf_loss: 0.6306 - seg_loss: -0.9568 - clf_accuracy: 0.6444 - clf_precision: 0.6458 - clf_recall: 0.6458 - clf_fmeasure: 0.6458 - seg_precision: 0.9866 - seg_recall: 0.9761 - seg_fmeasure: 0.9812 - val_loss: 0.7615 - val_clf_loss: 0.8855 - val_seg_loss: -0.6461 - val_clf_accuracy: 0.5323 - val_clf_precision: 0.5354 - val_clf_recall: 0.5354 - val_clf_fmeasure: 0.5354 - val_seg_precision: 0.9978 - val_seg_recall: 0.8265 - val_seg_fmeasure: 0.9030\n",
      "Epoch 7/40\n",
      "448/464 [===========================>..] - ETA: 0s - loss: 0.4263 - clf_loss: 0.6190 - seg_loss: -0.9635 - clf_accuracy: 0.6585 - clf_precision: 0.6585 - clf_recall: 0.6585 - clf_fmeasure: 0.6585 - seg_precision: 0.9905 - seg_recall: 0.9766 - seg_fmeasure: 0.9834\n",
      "Epoch 00007: val_clf_accuracy improved from 0.54526 to 0.56034, saving model to denp-seg-epo-07-acc-0.66-val-0.56.hdf5\n",
      "464/464 [==============================] - 11s 24ms/sample - loss: 0.4257 - clf_loss: 0.6181 - seg_loss: -0.9643 - clf_accuracy: 0.6573 - clf_precision: 0.6562 - clf_recall: 0.6562 - clf_fmeasure: 0.6562 - seg_precision: 0.9908 - seg_recall: 0.9768 - seg_fmeasure: 0.9836 - val_loss: 0.6421 - val_clf_loss: 0.7801 - val_seg_loss: -0.7088 - val_clf_accuracy: 0.5603 - val_clf_precision: 0.5625 - val_clf_recall: 0.5625 - val_clf_fmeasure: 0.5625 - val_seg_precision: 0.9978 - val_seg_recall: 0.8577 - val_seg_fmeasure: 0.9217\n",
      "Epoch 8/40\n",
      "448/464 [===========================>..] - ETA: 0s - loss: 0.4156 - clf_loss: 0.6097 - seg_loss: -0.9701 - clf_accuracy: 0.6562 - clf_precision: 0.6562 - clf_recall: 0.6562 - clf_fmeasure: 0.6562 - seg_precision: 0.9932 - seg_recall: 0.9820 - seg_fmeasure: 0.9875\n",
      "Epoch 00008: val_clf_accuracy did not improve from 0.56034\n",
      "464/464 [==============================] - 11s 23ms/sample - loss: 0.4105 - clf_loss: 0.5998 - seg_loss: -0.9703 - clf_accuracy: 0.6616 - clf_precision: 0.6667 - clf_recall: 0.6667 - clf_fmeasure: 0.6667 - seg_precision: 0.9929 - seg_recall: 0.9812 - seg_fmeasure: 0.9870 - val_loss: 0.8667 - val_clf_loss: 1.0177 - val_seg_loss: -0.7946 - val_clf_accuracy: 0.5323 - val_clf_precision: 0.5354 - val_clf_recall: 0.5354 - val_clf_fmeasure: 0.5354 - val_seg_precision: 0.9950 - val_seg_recall: 0.9030 - val_seg_fmeasure: 0.9464\n",
      "Epoch 9/40\n",
      "448/464 [===========================>..] - ETA: 0s - loss: 0.4046 - clf_loss: 0.5990 - seg_loss: -0.9719 - clf_accuracy: 0.6763 - clf_precision: 0.6763 - clf_recall: 0.6763 - clf_fmeasure: 0.6763 - seg_precision: 0.9948 - seg_recall: 0.9791 - seg_fmeasure: 0.9868\n",
      "Epoch 00009: val_clf_accuracy did not improve from 0.56034\n",
      "464/464 [==============================] - 11s 23ms/sample - loss: 0.4034 - clf_loss: 0.5965 - seg_loss: -0.9715 - clf_accuracy: 0.6789 - clf_precision: 0.6812 - clf_recall: 0.6812 - clf_fmeasure: 0.6812 - seg_precision: 0.9936 - seg_recall: 0.9803 - seg_fmeasure: 0.9868 - val_loss: 0.5374 - val_clf_loss: 0.6975 - val_seg_loss: -0.8188 - val_clf_accuracy: 0.5345 - val_clf_precision: 0.5375 - val_clf_recall: 0.5375 - val_clf_fmeasure: 0.5375 - val_seg_precision: 0.9979 - val_seg_recall: 0.9104 - val_seg_fmeasure: 0.9518\n",
      "Epoch 10/40\n",
      "448/464 [===========================>..] - ETA: 0s - loss: 0.4065 - clf_loss: 0.6024 - seg_loss: -0.9794 - clf_accuracy: 0.6496 - clf_precision: 0.6496 - clf_recall: 0.6496 - clf_fmeasure: 0.6496 - seg_precision: 0.9950 - seg_recall: 0.9869 - seg_fmeasure: 0.9908\n",
      "Epoch 00010: val_clf_accuracy did not improve from 0.56034\n",
      "464/464 [==============================] - 11s 23ms/sample - loss: 0.4097 - clf_loss: 0.6086 - seg_loss: -0.9794 - clf_accuracy: 0.6466 - clf_precision: 0.6438 - clf_recall: 0.6438 - clf_fmeasure: 0.6437 - seg_precision: 0.9953 - seg_recall: 0.9868 - seg_fmeasure: 0.9910 - val_loss: 0.6379 - val_clf_loss: 0.7994 - val_seg_loss: -0.8311 - val_clf_accuracy: 0.5345 - val_clf_precision: 0.5375 - val_clf_recall: 0.5375 - val_clf_fmeasure: 0.5375 - val_seg_precision: 0.9997 - val_seg_recall: 0.8993 - val_seg_fmeasure: 0.9465\n",
      "Epoch 11/40\n",
      "448/464 [===========================>..] - ETA: 0s - loss: 0.4206 - clf_loss: 0.6165 - seg_loss: -0.9793 - clf_accuracy: 0.6674 - clf_precision: 0.6674 - clf_recall: 0.6674 - clf_fmeasure: 0.6674 - seg_precision: 0.9960 - seg_recall: 0.9858 - seg_fmeasure: 0.9908\n",
      "Epoch 00011: val_clf_accuracy did not improve from 0.56034\n",
      "464/464 [==============================] - 11s 24ms/sample - loss: 0.4202 - clf_loss: 0.6157 - seg_loss: -0.9794 - clf_accuracy: 0.6703 - clf_precision: 0.6729 - clf_recall: 0.6729 - clf_fmeasure: 0.6729 - seg_precision: 0.9963 - seg_recall: 0.9857 - seg_fmeasure: 0.9909 - val_loss: 0.7367 - val_clf_loss: 0.8971 - val_seg_loss: -0.8288 - val_clf_accuracy: 0.5323 - val_clf_precision: 0.5354 - val_clf_recall: 0.5354 - val_clf_fmeasure: 0.5354 - val_seg_precision: 0.9997 - val_seg_recall: 0.9060 - val_seg_fmeasure: 0.9502\n",
      "Epoch 12/40\n",
      "448/464 [===========================>..] - ETA: 0s - loss: 0.4087 - clf_loss: 0.6042 - seg_loss: -0.9773 - clf_accuracy: 0.6741 - clf_precision: 0.6741 - clf_recall: 0.6741 - clf_fmeasure: 0.6741 - seg_precision: 0.9936 - seg_recall: 0.9853 - seg_fmeasure: 0.9894\n",
      "Epoch 00012: val_clf_accuracy did not improve from 0.56034\n",
      "464/464 [==============================] - 11s 23ms/sample - loss: 0.4082 - clf_loss: 0.6033 - seg_loss: -0.9779 - clf_accuracy: 0.6767 - clf_precision: 0.6792 - clf_recall: 0.6792 - clf_fmeasure: 0.6792 - seg_precision: 0.9940 - seg_recall: 0.9858 - seg_fmeasure: 0.9898 - val_loss: 1.3004 - val_clf_loss: 1.4680 - val_seg_loss: -0.8781 - val_clf_accuracy: 0.5345 - val_clf_precision: 0.5375 - val_clf_recall: 0.5375 - val_clf_fmeasure: 0.5375 - val_seg_precision: 0.9997 - val_seg_recall: 0.9288 - val_seg_fmeasure: 0.9628\n",
      "Epoch 13/40\n",
      "448/464 [===========================>..] - ETA: 0s - loss: 0.4114 - clf_loss: 0.6077 - seg_loss: -0.9818 - clf_accuracy: 0.6518 - clf_precision: 0.6518 - clf_recall: 0.6518 - clf_fmeasure: 0.6518 - seg_precision: 0.9984 - seg_recall: 0.9858 - seg_fmeasure: 0.9921\n",
      "Epoch 00013: val_clf_accuracy improved from 0.56034 to 0.62716, saving model to denp-seg-epo-13-acc-0.66-val-0.63.hdf5\n",
      "464/464 [==============================] - 11s 24ms/sample - loss: 0.4079 - clf_loss: 0.6012 - seg_loss: -0.9822 - clf_accuracy: 0.6573 - clf_precision: 0.6625 - clf_recall: 0.6625 - clf_fmeasure: 0.6625 - seg_precision: 0.9984 - seg_recall: 0.9859 - seg_fmeasure: 0.9921 - val_loss: 0.4891 - val_clf_loss: 0.6762 - val_seg_loss: -0.9460 - val_clf_accuracy: 0.6272 - val_clf_precision: 0.6292 - val_clf_recall: 0.6292 - val_clf_fmeasure: 0.6292 - val_seg_precision: 0.9903 - val_seg_recall: 0.9754 - val_seg_fmeasure: 0.9827\n",
      "Epoch 14/40\n",
      "448/464 [===========================>..] - ETA: 0s - loss: 0.3908 - clf_loss: 0.5884 - seg_loss: -0.9881 - clf_accuracy: 0.6741 - clf_precision: 0.6741 - clf_recall: 0.6741 - clf_fmeasure: 0.6741 - seg_precision: 0.9971 - seg_recall: 0.9909 - seg_fmeasure: 0.9940\n",
      "Epoch 00014: val_clf_accuracy did not improve from 0.62716\n",
      "464/464 [==============================] - 11s 23ms/sample - loss: 0.3870 - clf_loss: 0.5812 - seg_loss: -0.9885 - clf_accuracy: 0.6789 - clf_precision: 0.6833 - clf_recall: 0.6833 - clf_fmeasure: 0.6833 - seg_precision: 0.9972 - seg_recall: 0.9913 - seg_fmeasure: 0.9942 - val_loss: 1.3886 - val_clf_loss: 1.5740 - val_seg_loss: -0.9794 - val_clf_accuracy: 0.5388 - val_clf_precision: 0.5417 - val_clf_recall: 0.5417 - val_clf_fmeasure: 0.5417 - val_seg_precision: 0.9968 - val_seg_recall: 0.9878 - val_seg_fmeasure: 0.9922\n",
      "Epoch 15/40\n",
      "448/464 [===========================>..] - ETA: 0s - loss: 0.3802 - clf_loss: 0.5780 - seg_loss: -0.9891 - clf_accuracy: 0.6920 - clf_precision: 0.6920 - clf_recall: 0.6920 - clf_fmeasure: 0.6920 - seg_precision: 0.9992 - seg_recall: 0.9882 - seg_fmeasure: 0.9936\n",
      "Epoch 00015: val_clf_accuracy did not improve from 0.62716\n",
      "464/464 [==============================] - 11s 23ms/sample - loss: 0.3774 - clf_loss: 0.5726 - seg_loss: -0.9890 - clf_accuracy: 0.6961 - clf_precision: 0.7000 - clf_recall: 0.7000 - clf_fmeasure: 0.7000 - seg_precision: 0.9992 - seg_recall: 0.9877 - seg_fmeasure: 0.9934 - val_loss: 0.9120 - val_clf_loss: 1.0878 - val_seg_loss: -0.9159 - val_clf_accuracy: 0.5603 - val_clf_precision: 0.5625 - val_clf_recall: 0.5625 - val_clf_fmeasure: 0.5625 - val_seg_precision: 0.9923 - val_seg_recall: 0.9924 - val_seg_fmeasure: 0.9924\n",
      "Epoch 16/40\n",
      "448/464 [===========================>..] - ETA: 0s - loss: 0.3558 - clf_loss: 0.5520 - seg_loss: -0.9813 - clf_accuracy: 0.7321 - clf_precision: 0.7321 - clf_recall: 0.7321 - clf_fmeasure: 0.7321 - seg_precision: 0.9930 - seg_recall: 0.9846 - seg_fmeasure: 0.9886\n",
      "Epoch 00016: val_clf_accuracy did not improve from 0.62716\n",
      "464/464 [==============================] - 11s 23ms/sample - loss: 0.3603 - clf_loss: 0.5607 - seg_loss: -0.9813 - clf_accuracy: 0.7284 - clf_precision: 0.7250 - clf_recall: 0.7250 - clf_fmeasure: 0.7250 - seg_precision: 0.9935 - seg_recall: 0.9847 - seg_fmeasure: 0.9889 - val_loss: 5.2311 - val_clf_loss: 5.3717 - val_seg_loss: -0.8853 - val_clf_accuracy: 0.5539 - val_clf_precision: 0.5583 - val_clf_recall: 0.5583 - val_clf_fmeasure: 0.5583 - val_seg_precision: 0.9987 - val_seg_recall: 0.9776 - val_seg_fmeasure: 0.9880\n",
      "Epoch 17/40\n",
      "448/464 [===========================>..] - ETA: 0s - loss: 0.3815 - clf_loss: 0.5786 - seg_loss: -0.9858 - clf_accuracy: 0.6987 - clf_precision: 0.6987 - clf_recall: 0.6987 - clf_fmeasure: 0.6987 - seg_precision: 0.9979 - seg_recall: 0.9864 - seg_fmeasure: 0.9921\n",
      "Epoch 00017: val_clf_accuracy improved from 0.62716 to 0.67672, saving model to denp-seg-epo-17-acc-0.70-val-0.68.hdf5\n",
      "464/464 [==============================] - 11s 24ms/sample - loss: 0.3848 - clf_loss: 0.5852 - seg_loss: -0.9859 - clf_accuracy: 0.6961 - clf_precision: 0.6938 - clf_recall: 0.6938 - clf_fmeasure: 0.6937 - seg_precision: 0.9978 - seg_recall: 0.9872 - seg_fmeasure: 0.9924 - val_loss: 0.3869 - val_clf_loss: 0.5794 - val_seg_loss: -0.9675 - val_clf_accuracy: 0.6767 - val_clf_precision: 0.6771 - val_clf_recall: 0.6771 - val_clf_fmeasure: 0.6771 - val_seg_precision: 0.9934 - val_seg_recall: 0.9914 - val_seg_fmeasure: 0.9924\n",
      "Epoch 18/40\n",
      "448/464 [===========================>..] - ETA: 0s - loss: 0.3942 - clf_loss: 0.5921 - seg_loss: -0.9891 - clf_accuracy: 0.6786 - clf_precision: 0.6786 - clf_recall: 0.6786 - clf_fmeasure: 0.6786 - seg_precision: 0.9992 - seg_recall: 0.9860 - seg_fmeasure: 0.9925\n",
      "Epoch 00018: val_clf_accuracy did not improve from 0.67672\n",
      "464/464 [==============================] - 11s 23ms/sample - loss: 0.3936 - clf_loss: 0.5907 - seg_loss: -0.9887 - clf_accuracy: 0.6789 - clf_precision: 0.6792 - clf_recall: 0.6792 - clf_fmeasure: 0.6792 - seg_precision: 0.9993 - seg_recall: 0.9861 - seg_fmeasure: 0.9926 - val_loss: 0.3882 - val_clf_loss: 0.5816 - val_seg_loss: -0.9817 - val_clf_accuracy: 0.6616 - val_clf_precision: 0.6604 - val_clf_recall: 0.6604 - val_clf_fmeasure: 0.6604 - val_seg_precision: 0.9932 - val_seg_recall: 0.9930 - val_seg_fmeasure: 0.9931\n",
      "Epoch 19/40\n",
      "448/464 [===========================>..] - ETA: 0s - loss: 0.3677 - clf_loss: 0.5653 - seg_loss: -0.9881 - clf_accuracy: 0.6942 - clf_precision: 0.6942 - clf_recall: 0.6942 - clf_fmeasure: 0.6942 - seg_precision: 0.9976 - seg_recall: 0.9890 - seg_fmeasure: 0.9932\n",
      "Epoch 00019: val_clf_accuracy did not improve from 0.67672\n",
      "464/464 [==============================] - 11s 23ms/sample - loss: 0.3744 - clf_loss: 0.5783 - seg_loss: -0.9883 - clf_accuracy: 0.6875 - clf_precision: 0.6812 - clf_recall: 0.6812 - clf_fmeasure: 0.6812 - seg_precision: 0.9978 - seg_recall: 0.9891 - seg_fmeasure: 0.9934 - val_loss: 2.0396 - val_clf_loss: 2.2198 - val_seg_loss: -0.9841 - val_clf_accuracy: 0.5345 - val_clf_precision: 0.5375 - val_clf_recall: 0.5375 - val_clf_fmeasure: 0.5375 - val_seg_precision: 0.9966 - val_seg_recall: 0.9897 - val_seg_fmeasure: 0.9931\n",
      "Epoch 20/40\n",
      "448/464 [===========================>..] - ETA: 0s - loss: 0.3628 - clf_loss: 0.5610 - seg_loss: -0.9913 - clf_accuracy: 0.7031 - clf_precision: 0.7031 - clf_recall: 0.7031 - clf_fmeasure: 0.7031 - seg_precision: 0.9986 - seg_recall: 0.9902 - seg_fmeasure: 0.9944\n",
      "Epoch 00020: val_clf_accuracy did not improve from 0.67672\n",
      "464/464 [==============================] - 11s 23ms/sample - loss: 0.3629 - clf_loss: 0.5613 - seg_loss: -0.9916 - clf_accuracy: 0.7026 - clf_precision: 0.7021 - clf_recall: 0.7021 - clf_fmeasure: 0.7021 - seg_precision: 0.9987 - seg_recall: 0.9908 - seg_fmeasure: 0.9947 - val_loss: 3.6282 - val_clf_loss: 3.7968 - val_seg_loss: -0.9821 - val_clf_accuracy: 0.5323 - val_clf_precision: 0.5354 - val_clf_recall: 0.5354 - val_clf_fmeasure: 0.5354 - val_seg_precision: 0.9979 - val_seg_recall: 0.9893 - val_seg_fmeasure: 0.9936\n",
      "Epoch 21/40\n",
      "448/464 [===========================>..] - ETA: 0s - loss: 0.3779 - clf_loss: 0.5764 - seg_loss: -0.9925 - clf_accuracy: 0.6875 - clf_precision: 0.6875 - clf_recall: 0.6875 - clf_fmeasure: 0.6875 - seg_precision: 0.9990 - seg_recall: 0.9898 - seg_fmeasure: 0.9944\n",
      "Epoch 00021: val_clf_accuracy did not improve from 0.67672\n",
      "464/464 [==============================] - 11s 23ms/sample - loss: 0.3770 - clf_loss: 0.5743 - seg_loss: -0.9913 - clf_accuracy: 0.6897 - clf_precision: 0.6917 - clf_recall: 0.6917 - clf_fmeasure: 0.6917 - seg_precision: 0.9969 - seg_recall: 0.9904 - seg_fmeasure: 0.9936 - val_loss: 0.4111 - val_clf_loss: 0.6030 - val_seg_loss: -0.9713 - val_clf_accuracy: 0.6724 - val_clf_precision: 0.6708 - val_clf_recall: 0.6708 - val_clf_fmeasure: 0.6708 - val_seg_precision: 0.9880 - val_seg_recall: 0.9956 - val_seg_fmeasure: 0.9918\n",
      "Epoch 22/40\n",
      "448/464 [===========================>..] - ETA: 0s - loss: 0.3502 - clf_loss: 0.5486 - seg_loss: -0.9922 - clf_accuracy: 0.7143 - clf_precision: 0.7143 - clf_recall: 0.7143 - clf_fmeasure: 0.7143 - seg_precision: 0.9992 - seg_recall: 0.9880 - seg_fmeasure: 0.9935\n",
      "Epoch 00022: val_clf_accuracy improved from 0.67672 to 0.70259, saving model to denp-seg-epo-22-acc-0.71-val-0.70.hdf5\n",
      "464/464 [==============================] - 11s 24ms/sample - loss: 0.3506 - clf_loss: 0.5493 - seg_loss: -0.9920 - clf_accuracy: 0.7112 - clf_precision: 0.7083 - clf_recall: 0.7083 - clf_fmeasure: 0.7083 - seg_precision: 0.9993 - seg_recall: 0.9883 - seg_fmeasure: 0.9937 - val_loss: 0.3574 - val_clf_loss: 0.5522 - val_seg_loss: -0.9886 - val_clf_accuracy: 0.7026 - val_clf_precision: 0.7042 - val_clf_recall: 0.7042 - val_clf_fmeasure: 0.7042 - val_seg_precision: 0.9975 - val_seg_recall: 0.9926 - val_seg_fmeasure: 0.9950\n",
      "Epoch 23/40\n",
      "448/464 [===========================>..] - ETA: 0s - loss: 0.3693 - clf_loss: 0.5678 - seg_loss: -0.9924 - clf_accuracy: 0.6875 - clf_precision: 0.6875 - clf_recall: 0.6875 - clf_fmeasure: 0.6875 - seg_precision: 0.9988 - seg_recall: 0.9898 - seg_fmeasure: 0.9943\n",
      "Epoch 00023: val_clf_accuracy did not improve from 0.70259\n",
      "464/464 [==============================] - 11s 23ms/sample - loss: 0.3685 - clf_loss: 0.5663 - seg_loss: -0.9925 - clf_accuracy: 0.6875 - clf_precision: 0.6875 - clf_recall: 0.6875 - clf_fmeasure: 0.6875 - seg_precision: 0.9989 - seg_recall: 0.9900 - seg_fmeasure: 0.9944 - val_loss: 1.1162 - val_clf_loss: 1.3053 - val_seg_loss: -0.9902 - val_clf_accuracy: 0.5539 - val_clf_precision: 0.5562 - val_clf_recall: 0.5562 - val_clf_fmeasure: 0.5562 - val_seg_precision: 0.9983 - val_seg_recall: 0.9912 - val_seg_fmeasure: 0.9947\n",
      "Epoch 24/40\n",
      "448/464 [===========================>..] - ETA: 0s - loss: 0.3735 - clf_loss: 0.5721 - seg_loss: -0.9927 - clf_accuracy: 0.6920 - clf_precision: 0.6920 - clf_recall: 0.6920 - clf_fmeasure: 0.6920 - seg_precision: 0.9990 - seg_recall: 0.9901 - seg_fmeasure: 0.9945\n",
      "Epoch 00024: val_clf_accuracy did not improve from 0.70259\n",
      "464/464 [==============================] - 11s 23ms/sample - loss: 0.3714 - clf_loss: 0.5679 - seg_loss: -0.9928 - clf_accuracy: 0.6961 - clf_precision: 0.7000 - clf_recall: 0.7000 - clf_fmeasure: 0.7000 - seg_precision: 0.9990 - seg_recall: 0.9905 - seg_fmeasure: 0.9947 - val_loss: 0.5403 - val_clf_loss: 0.7335 - val_seg_loss: -0.9929 - val_clf_accuracy: 0.5841 - val_clf_precision: 0.5854 - val_clf_recall: 0.5854 - val_clf_fmeasure: 0.5854 - val_seg_precision: 0.9994 - val_seg_recall: 0.9913 - val_seg_fmeasure: 0.9953\n",
      "Epoch 25/40\n",
      "448/464 [===========================>..] - ETA: 0s - loss: 0.3552 - clf_loss: 0.5539 - seg_loss: -0.9934 - clf_accuracy: 0.7299 - clf_precision: 0.7299 - clf_recall: 0.7299 - clf_fmeasure: 0.7299 - seg_precision: 0.9975 - seg_recall: 0.9919 - seg_fmeasure: 0.9947\n",
      "Epoch 00025: val_clf_accuracy did not improve from 0.70259\n",
      "464/464 [==============================] - 11s 23ms/sample - loss: 0.3549 - clf_loss: 0.5531 - seg_loss: -0.9925 - clf_accuracy: 0.7284 - clf_precision: 0.7271 - clf_recall: 0.7271 - clf_fmeasure: 0.7271 - seg_precision: 0.9976 - seg_recall: 0.9916 - seg_fmeasure: 0.9946 - val_loss: 0.6869 - val_clf_loss: 0.8776 - val_seg_loss: -0.9881 - val_clf_accuracy: 0.6789 - val_clf_precision: 0.6771 - val_clf_recall: 0.6771 - val_clf_fmeasure: 0.6771 - val_seg_precision: 0.9974 - val_seg_recall: 0.9926 - val_seg_fmeasure: 0.9950\n",
      "Epoch 26/40\n",
      "448/464 [===========================>..] - ETA: 0s - loss: 0.3219 - clf_loss: 0.5205 - seg_loss: -0.9932 - clf_accuracy: 0.7455 - clf_precision: 0.7455 - clf_recall: 0.7455 - clf_fmeasure: 0.7455 - seg_precision: 0.9987 - seg_recall: 0.9913 - seg_fmeasure: 0.9950\n",
      "Epoch 00026: val_clf_accuracy did not improve from 0.70259\n",
      "464/464 [==============================] - 11s 23ms/sample - loss: 0.3210 - clf_loss: 0.5189 - seg_loss: -0.9934 - clf_accuracy: 0.7478 - clf_precision: 0.7500 - clf_recall: 0.7500 - clf_fmeasure: 0.7500 - seg_precision: 0.9988 - seg_recall: 0.9914 - seg_fmeasure: 0.9951 - val_loss: 0.7674 - val_clf_loss: 0.9378 - val_seg_loss: -0.8813 - val_clf_accuracy: 0.6552 - val_clf_precision: 0.6562 - val_clf_recall: 0.6562 - val_clf_fmeasure: 0.6562 - val_seg_precision: 0.9878 - val_seg_recall: 0.9909 - val_seg_fmeasure: 0.9893\n",
      "Epoch 27/40\n",
      "448/464 [===========================>..] - ETA: 0s - loss: 0.3138 - clf_loss: 0.5125 - seg_loss: -0.9935 - clf_accuracy: 0.7388 - clf_precision: 0.7388 - clf_recall: 0.7388 - clf_fmeasure: 0.7388 - seg_precision: 0.9977 - seg_recall: 0.9920 - seg_fmeasure: 0.9948\n",
      "Epoch 00027: val_clf_accuracy improved from 0.70259 to 0.73276, saving model to denp-seg-epo-27-acc-0.73-val-0.73.hdf5\n",
      "464/464 [==============================] - 11s 24ms/sample - loss: 0.3230 - clf_loss: 0.5302 - seg_loss: -0.9929 - clf_accuracy: 0.7328 - clf_precision: 0.7271 - clf_recall: 0.7271 - clf_fmeasure: 0.7271 - seg_precision: 0.9979 - seg_recall: 0.9918 - seg_fmeasure: 0.9948 - val_loss: 0.3271 - val_clf_loss: 0.5181 - val_seg_loss: -0.9697 - val_clf_accuracy: 0.7328 - val_clf_precision: 0.7333 - val_clf_recall: 0.7333 - val_clf_fmeasure: 0.7333 - val_seg_precision: 0.9953 - val_seg_recall: 0.9936 - val_seg_fmeasure: 0.9945\n",
      "Epoch 28/40\n",
      "448/464 [===========================>..] - ETA: 0s - loss: 0.3196 - clf_loss: 0.5182 - seg_loss: -0.9934 - clf_accuracy: 0.7500 - clf_precision: 0.7500 - clf_recall: 0.7500 - clf_fmeasure: 0.7500 - seg_precision: 0.9989 - seg_recall: 0.9904 - seg_fmeasure: 0.9947\n",
      "Epoch 00028: val_clf_accuracy did not improve from 0.73276\n",
      "464/464 [==============================] - 11s 23ms/sample - loss: 0.3163 - clf_loss: 0.5120 - seg_loss: -0.9936 - clf_accuracy: 0.7522 - clf_precision: 0.7542 - clf_recall: 0.7542 - clf_fmeasure: 0.7542 - seg_precision: 0.9990 - seg_recall: 0.9905 - seg_fmeasure: 0.9947 - val_loss: 0.4254 - val_clf_loss: 0.5992 - val_seg_loss: -0.8962 - val_clf_accuracy: 0.6573 - val_clf_precision: 0.6604 - val_clf_recall: 0.6604 - val_clf_fmeasure: 0.6604 - val_seg_precision: 0.9733 - val_seg_recall: 0.9954 - val_seg_fmeasure: 0.9842\n",
      "Epoch 29/40\n",
      "448/464 [===========================>..] - ETA: 0s - loss: 0.3180 - clf_loss: 0.5166 - seg_loss: -0.9930 - clf_accuracy: 0.7500 - clf_precision: 0.7500 - clf_recall: 0.7500 - clf_fmeasure: 0.7500 - seg_precision: 0.9993 - seg_recall: 0.9907 - seg_fmeasure: 0.9949\n",
      "Epoch 00029: val_clf_accuracy did not improve from 0.73276\n",
      "464/464 [==============================] - 11s 23ms/sample - loss: 0.3142 - clf_loss: 0.5092 - seg_loss: -0.9926 - clf_accuracy: 0.7522 - clf_precision: 0.7542 - clf_recall: 0.7542 - clf_fmeasure: 0.7542 - seg_precision: 0.9986 - seg_recall: 0.9912 - seg_fmeasure: 0.9949 - val_loss: 0.4623 - val_clf_loss: 0.6180 - val_seg_loss: -0.7732 - val_clf_accuracy: 0.6789 - val_clf_precision: 0.6792 - val_clf_recall: 0.6792 - val_clf_fmeasure: 0.6792 - val_seg_precision: 0.9466 - val_seg_recall: 0.9973 - val_seg_fmeasure: 0.9712\n",
      "Epoch 30/40\n",
      "448/464 [===========================>..] - ETA: 0s - loss: 0.3541 - clf_loss: 0.5529 - seg_loss: -0.9939 - clf_accuracy: 0.7321 - clf_precision: 0.7321 - clf_recall: 0.7321 - clf_fmeasure: 0.7321 - seg_precision: 0.9982 - seg_recall: 0.9917 - seg_fmeasure: 0.9949\n",
      "Epoch 00030: val_clf_accuracy did not improve from 0.73276\n",
      "464/464 [==============================] - 11s 23ms/sample - loss: 0.3505 - clf_loss: 0.5460 - seg_loss: -0.9939 - clf_accuracy: 0.7349 - clf_precision: 0.7375 - clf_recall: 0.7375 - clf_fmeasure: 0.7375 - seg_precision: 0.9981 - seg_recall: 0.9921 - seg_fmeasure: 0.9951 - val_loss: 0.3914 - val_clf_loss: 0.5824 - val_seg_loss: -0.9787 - val_clf_accuracy: 0.6595 - val_clf_precision: 0.6625 - val_clf_recall: 0.6625 - val_clf_fmeasure: 0.6625 - val_seg_precision: 0.9833 - val_seg_recall: 0.9962 - val_seg_fmeasure: 0.9897\n",
      "Epoch 31/40\n",
      "448/464 [===========================>..] - ETA: 0s - loss: 0.3200 - clf_loss: 0.5182 - seg_loss: -0.9909 - clf_accuracy: 0.7500 - clf_precision: 0.7500 - clf_recall: 0.7500 - clf_fmeasure: 0.7500 - seg_precision: 0.9980 - seg_recall: 0.9891 - seg_fmeasure: 0.9935\n",
      "Epoch 00031: val_clf_accuracy did not improve from 0.73276\n",
      "464/464 [==============================] - 11s 23ms/sample - loss: 0.3181 - clf_loss: 0.5147 - seg_loss: -0.9910 - clf_accuracy: 0.7500 - clf_precision: 0.7500 - clf_recall: 0.7500 - clf_fmeasure: 0.7500 - seg_precision: 0.9981 - seg_recall: 0.9895 - seg_fmeasure: 0.9938 - val_loss: 0.5506 - val_clf_loss: 0.7115 - val_seg_loss: -0.7920 - val_clf_accuracy: 0.6336 - val_clf_precision: 0.6333 - val_clf_recall: 0.6333 - val_clf_fmeasure: 0.6333 - val_seg_precision: 0.9503 - val_seg_recall: 0.9959 - val_seg_fmeasure: 0.9725\n",
      "Epoch 32/40\n",
      "448/464 [===========================>..] - ETA: 0s - loss: 0.2831 - clf_loss: 0.4819 - seg_loss: -0.9939 - clf_accuracy: 0.7634 - clf_precision: 0.7634 - clf_recall: 0.7634 - clf_fmeasure: 0.7634 - seg_precision: 0.9994 - seg_recall: 0.9897 - seg_fmeasure: 0.9945\n",
      "Epoch 00032: val_clf_accuracy did not improve from 0.73276\n",
      "464/464 [==============================] - 11s 23ms/sample - loss: 0.2826 - clf_loss: 0.4810 - seg_loss: -0.9940 - clf_accuracy: 0.7651 - clf_precision: 0.7667 - clf_recall: 0.7667 - clf_fmeasure: 0.7667 - seg_precision: 0.9994 - seg_recall: 0.9901 - seg_fmeasure: 0.9947 - val_loss: 0.7207 - val_clf_loss: 0.8784 - val_seg_loss: -0.8094 - val_clf_accuracy: 0.5453 - val_clf_precision: 0.5479 - val_clf_recall: 0.5479 - val_clf_fmeasure: 0.5479 - val_seg_precision: 0.9331 - val_seg_recall: 0.9972 - val_seg_fmeasure: 0.9639\n",
      "Epoch 33/40\n",
      "448/464 [===========================>..] - ETA: 0s - loss: 0.2594 - clf_loss: 0.4577 - seg_loss: -0.9915 - clf_accuracy: 0.7812 - clf_precision: 0.7812 - clf_recall: 0.7812 - clf_fmeasure: 0.7812 - seg_precision: 0.9981 - seg_recall: 0.9895 - seg_fmeasure: 0.9937\n",
      "Epoch 00033: val_clf_accuracy did not improve from 0.73276\n",
      "464/464 [==============================] - 11s 23ms/sample - loss: 0.2574 - clf_loss: 0.4539 - seg_loss: -0.9918 - clf_accuracy: 0.7802 - clf_precision: 0.7792 - clf_recall: 0.7792 - clf_fmeasure: 0.7792 - seg_precision: 0.9982 - seg_recall: 0.9897 - seg_fmeasure: 0.9939 - val_loss: 0.7554 - val_clf_loss: 0.8382 - val_seg_loss: -0.3880 - val_clf_accuracy: 0.6961 - val_clf_precision: 0.6958 - val_clf_recall: 0.6958 - val_clf_fmeasure: 0.6958 - val_seg_precision: 0.4942 - val_seg_recall: 0.9958 - val_seg_fmeasure: 0.6563\n",
      "Epoch 34/40\n",
      "448/464 [===========================>..] - ETA: 0s - loss: 0.2283 - clf_loss: 0.4269 - seg_loss: -0.9930 - clf_accuracy: 0.8125 - clf_precision: 0.8125 - clf_recall: 0.8125 - clf_fmeasure: 0.8125 - seg_precision: 0.9981 - seg_recall: 0.9913 - seg_fmeasure: 0.9947\n",
      "Epoch 00034: val_clf_accuracy did not improve from 0.73276\n",
      "464/464 [==============================] - 11s 23ms/sample - loss: 0.2383 - clf_loss: 0.4463 - seg_loss: -0.9931 - clf_accuracy: 0.8060 - clf_precision: 0.8000 - clf_recall: 0.8000 - clf_fmeasure: 0.8000 - seg_precision: 0.9980 - seg_recall: 0.9915 - seg_fmeasure: 0.9947 - val_loss: 1.3396 - val_clf_loss: 1.5212 - val_seg_loss: -0.9785 - val_clf_accuracy: 0.5754 - val_clf_precision: 0.5792 - val_clf_recall: 0.5792 - val_clf_fmeasure: 0.5792 - val_seg_precision: 0.9973 - val_seg_recall: 0.9925 - val_seg_fmeasure: 0.9949\n",
      "Epoch 35/40\n",
      "448/464 [===========================>..] - ETA: 0s - loss: 0.2255 - clf_loss: 0.4244 - seg_loss: -0.9945 - clf_accuracy: 0.8147 - clf_precision: 0.8147 - clf_recall: 0.8147 - clf_fmeasure: 0.8147 - seg_precision: 0.9990 - seg_recall: 0.9917 - seg_fmeasure: 0.9953\n",
      "Epoch 00035: val_clf_accuracy improved from 0.73276 to 0.75862, saving model to denp-seg-epo-35-acc-0.81-val-0.76.hdf5\n",
      "464/464 [==============================] - 11s 24ms/sample - loss: 0.2312 - clf_loss: 0.4354 - seg_loss: -0.9947 - clf_accuracy: 0.8103 - clf_precision: 0.8062 - clf_recall: 0.8062 - clf_fmeasure: 0.8062 - seg_precision: 0.9991 - seg_recall: 0.9919 - seg_fmeasure: 0.9955 - val_loss: 0.2661 - val_clf_loss: 0.4611 - val_seg_loss: -0.9926 - val_clf_accuracy: 0.7586 - val_clf_precision: 0.7583 - val_clf_recall: 0.7583 - val_clf_fmeasure: 0.7583 - val_seg_precision: 0.9981 - val_seg_recall: 0.9943 - val_seg_fmeasure: 0.9962\n",
      "Epoch 36/40\n",
      "448/464 [===========================>..] - ETA: 0s - loss: 0.2111 - clf_loss: 0.4101 - seg_loss: -0.9949 - clf_accuracy: 0.8214 - clf_precision: 0.8214 - clf_recall: 0.8214 - clf_fmeasure: 0.8214 - seg_precision: 0.9992 - seg_recall: 0.9922 - seg_fmeasure: 0.9957\n",
      "Epoch 00036: val_clf_accuracy did not improve from 0.75862\n",
      "464/464 [==============================] - 11s 23ms/sample - loss: 0.2145 - clf_loss: 0.4166 - seg_loss: -0.9946 - clf_accuracy: 0.8168 - clf_precision: 0.8125 - clf_recall: 0.8125 - clf_fmeasure: 0.8125 - seg_precision: 0.9992 - seg_recall: 0.9926 - seg_fmeasure: 0.9959 - val_loss: 0.3632 - val_clf_loss: 0.5618 - val_seg_loss: -0.9783 - val_clf_accuracy: 0.7328 - val_clf_precision: 0.7292 - val_clf_recall: 0.7292 - val_clf_fmeasure: 0.7292 - val_seg_precision: 0.9943 - val_seg_recall: 0.9933 - val_seg_fmeasure: 0.9938\n",
      "Epoch 37/40\n",
      "448/464 [===========================>..] - ETA: 0s - loss: 0.2034 - clf_loss: 0.4020 - seg_loss: -0.9928 - clf_accuracy: 0.8214 - clf_precision: 0.8214 - clf_recall: 0.8214 - clf_fmeasure: 0.8214 - seg_precision: 0.9988 - seg_recall: 0.9906 - seg_fmeasure: 0.9947\n",
      "Epoch 00037: val_clf_accuracy did not improve from 0.75862\n",
      "464/464 [==============================] - 11s 23ms/sample - loss: 0.2087 - clf_loss: 0.4121 - seg_loss: -0.9927 - clf_accuracy: 0.8147 - clf_precision: 0.8083 - clf_recall: 0.8083 - clf_fmeasure: 0.8083 - seg_precision: 0.9981 - seg_recall: 0.9911 - seg_fmeasure: 0.9946 - val_loss: 0.8111 - val_clf_loss: 0.9708 - val_seg_loss: -0.7740 - val_clf_accuracy: 0.6746 - val_clf_precision: 0.6750 - val_clf_recall: 0.6750 - val_clf_fmeasure: 0.6750 - val_seg_precision: 0.9229 - val_seg_recall: 0.9983 - val_seg_fmeasure: 0.9590\n",
      "Epoch 38/40\n",
      "448/464 [===========================>..] - ETA: 0s - loss: 0.2025 - clf_loss: 0.4011 - seg_loss: -0.9928 - clf_accuracy: 0.8214 - clf_precision: 0.8214 - clf_recall: 0.8214 - clf_fmeasure: 0.8214 - seg_precision: 0.9983 - seg_recall: 0.9876 - seg_fmeasure: 0.9929\n",
      "Epoch 00038: val_clf_accuracy improved from 0.75862 to 0.76724, saving model to denp-seg-epo-38-acc-0.82-val-0.77.hdf5\n",
      "464/464 [==============================] - 11s 24ms/sample - loss: 0.2031 - clf_loss: 0.4022 - seg_loss: -0.9930 - clf_accuracy: 0.8211 - clf_precision: 0.8208 - clf_recall: 0.8208 - clf_fmeasure: 0.8208 - seg_precision: 0.9983 - seg_recall: 0.9881 - seg_fmeasure: 0.9931 - val_loss: 0.3685 - val_clf_loss: 0.5536 - val_seg_loss: -0.9258 - val_clf_accuracy: 0.7672 - val_clf_precision: 0.7688 - val_clf_recall: 0.7688 - val_clf_fmeasure: 0.7687 - val_seg_precision: 0.9856 - val_seg_recall: 0.9946 - val_seg_fmeasure: 0.9901\n",
      "Epoch 39/40\n",
      "448/464 [===========================>..] - ETA: 0s - loss: 0.2462 - clf_loss: 0.4450 - seg_loss: -0.9940 - clf_accuracy: 0.8013 - clf_precision: 0.8013 - clf_recall: 0.8013 - clf_fmeasure: 0.8013 - seg_precision: 0.9981 - seg_recall: 0.9919 - seg_fmeasure: 0.9949\n",
      "Epoch 00039: val_clf_accuracy did not improve from 0.76724\n",
      "464/464 [==============================] - 11s 23ms/sample - loss: 0.2445 - clf_loss: 0.4418 - seg_loss: -0.9942 - clf_accuracy: 0.8017 - clf_precision: 0.8021 - clf_recall: 0.8021 - clf_fmeasure: 0.8021 - seg_precision: 0.9982 - seg_recall: 0.9921 - seg_fmeasure: 0.9951 - val_loss: 0.3658 - val_clf_loss: 0.5633 - val_seg_loss: -0.9909 - val_clf_accuracy: 0.7112 - val_clf_precision: 0.7104 - val_clf_recall: 0.7104 - val_clf_fmeasure: 0.7104 - val_seg_precision: 0.9996 - val_seg_recall: 0.9912 - val_seg_fmeasure: 0.9954\n",
      "Epoch 40/40\n",
      "448/464 [===========================>..] - ETA: 0s - loss: 0.1639 - clf_loss: 0.3630 - seg_loss: -0.9954 - clf_accuracy: 0.8393 - clf_precision: 0.8393 - clf_recall: 0.8393 - clf_fmeasure: 0.8393 - seg_precision: 0.9994 - seg_recall: 0.9934 - seg_fmeasure: 0.9964\n",
      "Epoch 00040: val_clf_accuracy did not improve from 0.76724\n",
      "464/464 [==============================] - 11s 23ms/sample - loss: 0.1596 - clf_loss: 0.3547 - seg_loss: -0.9951 - clf_accuracy: 0.8427 - clf_precision: 0.8458 - clf_recall: 0.8458 - clf_fmeasure: 0.8458 - seg_precision: 0.9995 - seg_recall: 0.9920 - seg_fmeasure: 0.9957 - val_loss: 0.5741 - val_clf_loss: 0.6456 - val_seg_loss: -0.3874 - val_clf_accuracy: 0.6056 - val_clf_precision: 0.6083 - val_clf_recall: 0.6083 - val_clf_fmeasure: 0.6083 - val_seg_precision: 0.4369 - val_seg_recall: 0.9931 - val_seg_fmeasure: 0.6017\n"
     ]
    }
   ],
   "source": [
    "#训练sharp\n",
    "sharp_hist=densesharp_model.fit(x_all2[0:464],(y_all[0:464],x_all_seg[0:464]),validation_data=(x_all2[0:464],(y_all[0:464],x_all_seg[0:464])),\n",
    "                                epochs=40,verbose=1,batch_size=32,\n",
    "                                        # callbacks=[checkpoint, early_stopping, best_keeper, lr_reducer, csv_logger, tensorboard])\n",
    "                        callbacks=[checkpoint])"
   ]
  },
  {
   "cell_type": "code",
   "execution_count": null,
   "metadata": {},
   "outputs": [],
   "source": [
    "#加载模型\n",
    "from tensorflow.keras.models import load_model\n",
    "import tensorflow as tf\n",
    "from mylibrary.models.losses import DiceLoss\n",
    "from mylibrary.models.metrics import invasion_acc, invasion_precision, invasion_recall, invasion_fmeasure,precision, recall, fmeasure,ia_acc,ia_precision,ia_recall,ia_fmeasure\n",
    "#file_path1='./seq_model/epo-06-acc-0.64-val-0.61.hdf5'\n",
    "#file_path1='./den-seg-base0arg0-epo-03-acc-0.67-val-0.69.hdf5'\n",
    "\n",
    "file_path1='../input/train-data/den-seg-base5-epo1-28-acc-0.74-val-0.73.hdf5'\n",
    "#file_path1='./denp-seg-basearg1-epo-06-acc-0.72-val-0.73.hdf5'\n",
    "#file_path1='./den-basearglre5adam-epo4-05-acc-0.70-val-0.64.hdf5'\n",
    "custom_objects1={'invasion_acc': invasion_acc,'invasion_precision':invasion_precision,'invasion_recall':invasion_recall,'invasion_fmeasure':invasion_fmeasure,'dice_loss_100':DiceLoss(),\n",
    "               'precision':precision,'recall':recall,'fmeasure':fmeasure,'ia_fmeasure':ia_fmeasure,'ia_acc':ia_acc,'ia_precision':ia_precision,'ia_recall':ia_recall}\n",
    "\n",
    "#densesharp_model = tf.keras.models.load_model(file_path1, custom_objects=custom_objects1)\n",
    "custom_objects={'invasion_acc': invasion_acc,'invasion_precision':invasion_precision,'invasion_recall':invasion_recall,'invasion_fmeasure':invasion_fmeasure}\n",
    "#densenet_model= load_model(file_path1)\n",
    "densenet_model.load_weights(file_path1)\n",
    "#val_pre = model.predict(x_val, batch_size=5, verbose=1)\n",
    "#score=model.evaluate\n",
    "#test_pre=model.predict(x_test,batch_size=3,verbose=1)\n"
   ]
  },
  {
   "cell_type": "code",
   "execution_count": null,
   "metadata": {},
   "outputs": [],
   "source": [
    "y_train_pred,segpre=densesharp_model.predict(x_all2)"
   ]
  },
  {
   "cell_type": "code",
   "execution_count": null,
   "metadata": {},
   "outputs": [],
   "source": [
    "print(y_train_pred.shape)\n",
    "a=auc(y_all[440:all_num-1],y_train_pred[440:all_num-1])\n",
    "print(a)"
   ]
  },
  {
   "cell_type": "code",
   "execution_count": null,
   "metadata": {},
   "outputs": [],
   "source": [
    "b=densesharp_model.evaluate(x_all2[440:all_num-1],(y_all[440:all_num-1],x_all_seg[440:all_num-1]))\n",
    "print(b)"
   ]
  },
  {
   "cell_type": "code",
   "execution_count": null,
   "metadata": {},
   "outputs": [],
   "source": [
    "densenet_model.save(\"den-seg-base5arg1-epo-20-acc-0.76-val-0.72.hdf5\")"
   ]
  },
  {
   "cell_type": "code",
   "execution_count": null,
   "metadata": {},
   "outputs": [],
   "source": [
    "all_num=len(y_all)\n",
    "#score_test=densesharp_model.evaluate(x_all2[0:all_num-1],(y_all[0:all_num-1],x_all_seg[0:all_num-1]),verbose=1)\n",
    "\n",
    "#print(y_pretrain[200:300])\n",
    "score_test=densenet_model.evaluate(x_all2[0:100],y_all[0:100],verbose=1)\n",
    "\n",
    "#score_test=densesharp_model.evaluate(x_all2[num:all_num-1],y_all[num:all_num-1],verbose=1)\n",
    "\n",
    "#score_test=densesharp_model.evaluate(x_all2[0:464],(y_all[0:all_num-1],x_all_seg[0:all_num-1]),verbose=1,batch_size=16)\n",
    "print('Testing loss: %.4f, Testing accuracy: %.2f%%' % (score_test[0],score_test[1]*100))"
   ]
  },
  {
   "cell_type": "code",
   "execution_count": null,
   "metadata": {},
   "outputs": [],
   "source": [
    "score_test=densesharp_model.evaluate(x_all2[0:464](y_all[0:all_num-1],x_all_seg[0:all_num-1]),verbose=1,batch_size=16)\n",
    "print('Testing loss: %.4f, Testing accuracy: %.2f%%' % (score_test[0],score_test[1]*100))"
   ]
  },
  {
   "cell_type": "code",
   "execution_count": null,
   "metadata": {},
   "outputs": [],
   "source": [
    "#预测\n",
    "y_pre,yseg_pre=densesharp_model.predict(x_all2)"
   ]
  },
  {
   "cell_type": "code",
   "execution_count": null,
   "metadata": {},
   "outputs": [],
   "source": [
    "a=auc(y_all,y_pre)\n",
    "print(a)\n",
    "print(y_pre[0])"
   ]
  },
  {
   "cell_type": "code",
   "execution_count": null,
   "metadata": {},
   "outputs": [],
   "source": [
    "#预留集上auc\n",
    "y_pretrain=densenet_model.predict(x_all2[num:all_num-1])\n",
    "a=auc(y_all[num:all_num-1],y_pretrain)\n",
    "print(a)"
   ]
  },
  {
   "cell_type": "code",
   "execution_count": null,
   "metadata": {},
   "outputs": [],
   "source": [
    "#总训练集上auc\n",
    "y_pretrain=densenet_model.predict(x_all2)\n",
    "a=auc(y_all,y_pretrain)\n",
    "print(a)"
   ]
  },
  {
   "cell_type": "code",
   "execution_count": null,
   "metadata": {},
   "outputs": [],
   "source": [
    "#得到test\n",
    "import os\n",
    "import numpy as np\n",
    "import pandas as pd\n",
    "test_info=pd.read_csv(\"../input/train-data/test_result.csv\")\n",
    "test_nodule_path=\"../input/train-data/test/test/\"\n",
    "name = test_info.loc[:, 'name']\n",
    "test_num=len(name)\n",
    "xs = np.empty((test_num,*(32,32,32), 1))\n",
    "segs=np.empty((test_num,*(32,32,32), 1))\n",
    "\n",
    "for i in range(test_num):\n",
    "        with np.load(os.path.join(test_nodule_path, '%s.npz' % name[i])) as npz:\n",
    "            voxel=npz['voxel'][34:66,34:66,34:66]\n",
    "            seg=npz['seg'][34:66,34:66,34:66]\n",
    "            voxel=np.expand_dims(voxel,axis=-1)\n",
    "            seg=np.expand_dims(seg,axis=-1)\n",
    "            \n",
    "            xs[i,]=voxel\n",
    "            segs[i,]=seg\n",
    "x_test=xs\n",
    "x_test_seg=segs\n",
    "print(x_test.shape)\n",
    "print('seg shape',x_test_seg.shape)\n",
    "#np.save('x_test.npy',x_test)\n",
    "xseg_test=x_test*x_test_seg"
   ]
  },
  {
   "cell_type": "code",
   "execution_count": null,
   "metadata": {},
   "outputs": [],
   "source": [
    "#数据预测与保存\n",
    "y_test_pre,yseg=densesharp_model.predict(xseg_test)\n",
    "\n",
    "y_test1=y_test_pre[:,[1]]\n",
    "#y_test1[5]\n",
    "#y_test_pre[[5]]\n",
    "test_num=len(xseg_test)\n",
    "import pandas as pd\n",
    "\n",
    "file_name=\"submission sharp.csv\"\n",
    "test_list = pd.read_table(\"../input/train-data/test_result.csv\",sep = \",\")['name']\n",
    "test_name = np.array(test_list).reshape(test_num)\n",
    "#print(y_test_pre.shape)\n",
    "load_predicted = np.array(y_test1).reshape(test_num)\n",
    "load_test_dict = {'name':test_name, 'Predicted':load_predicted}\n",
    "load_result = pd.DataFrame(load_test_dict, index = [0 for _ in range(test_num)])\n",
    "load_result.to_csv(file_name, index = False, sep = ',')\n"
   ]
  },
  {
   "cell_type": "code",
   "execution_count": null,
   "metadata": {},
   "outputs": [],
   "source": [
    "print(net_history2.history.keys())"
   ]
  },
  {
   "cell_type": "code",
   "execution_count": null,
   "metadata": {},
   "outputs": [],
   "source": [
    "import matplotlib.pyplot as plt\n",
    "plt.plot(net_history2.history['categorical_accuracy'], label='acc')\n",
    "plt.plot(net_history2.history['val_categorical_accuracy'], label = 'val_accuracy')\n",
    "plt.xlabel('Epoch')\n",
    "plt.ylabel('Accuracy')\n",
    "plt.ylim([0.5, 1])\n",
    "plt.legend(loc='lower right')"
   ]
  },
  {
   "cell_type": "code",
   "execution_count": null,
   "metadata": {},
   "outputs": [],
   "source": [
    "print(history.history.keys())"
   ]
  },
  {
   "cell_type": "code",
   "execution_count": null,
   "metadata": {},
   "outputs": [],
   "source": [
    "import matplotlib.pyplot as plt\n",
    "plt.plot(net_history3.history['categorical_accuracy'], label='categorical_accuracy')\n",
    "plt.plot(net_history3.history['categorical_crossentropy'], label='categorical_crossentropy')\n",
    "\n",
    "#plt.plot(net_history2.history['ROC_AUC'], label = 'ROC_AUC')\n",
    "#plt.plot(net_history2.history['ROC_AUC'], label = 'ROC_AUC')\n",
    "plt.xlabel('Epoch')\n",
    "plt.ylabel('train')\n",
    "plt.ylim([0.3, 1])\n",
    "plt.legend(loc='lower right')\n",
    "plt.title(\"3D-Densenet\")\n",
    "plt.savefig('3d net_train.png')"
   ]
  },
  {
   "cell_type": "code",
   "execution_count": null,
   "metadata": {},
   "outputs": [],
   "source": [
    "\n",
    "plt.plot(net_history3.history['val_categorical_accuracy'], label = 'val_categorical_accuracy')\n",
    "plt.plot(net_history3.history['categorical_accuracy'], label='categorical_accuracy')\n",
    "#plt.plot(net_history3.history['val_categorical_crossentropy'], label = 'val_categorical_crossentropy')\n",
    "#plt.plot(net_history2.history['ROC_AUC'], label = 'ROC_AUC')\n",
    "#plt.plot(net_history2.history['ROC_AUC'], label = 'ROC_AUC')\n",
    "plt.xlabel('Epoch')\n",
    "plt.ylabel('val')\n",
    "plt.ylim([0.4, 1.5])\n",
    "plt.legend(loc='lower right')\n",
    "plt.title(\"3D-Densenet\")\n",
    "plt.savefig('3d densenet_val.png')"
   ]
  },
  {
   "cell_type": "code",
   "execution_count": 8,
   "metadata": {},
   "outputs": [
    {
     "data": {
      "image/png": "[encoded data removed]",
      "text/plain": [
       "<Figure size 432x288 with 1 Axes>"
      ]
     },
     "metadata": {
      "needs_background": "light"
     },
     "output_type": "display_data"
    }
   ],
   "source": [
    "import matplotlib.pyplot as plt\n",
    "plt.plot(sharp_hist.history['clf_accuracy'], label='clf_accuracy')\n",
    "plt.plot(sharp_hist.history['val_clf_accuracy'], label = 'val_clf_accuracy')\n",
    "\n",
    "#plt.plot(net_history2.history['ROC_AUC'], label = 'ROC_AUC')\n",
    "#plt.plot(net_history2.history['ROC_AUC'], label = 'ROC_AUC')\n",
    "plt.xlabel('Epoch')\n",
    "plt.ylabel('accuracy')\n",
    "plt.ylim([0.3, 1])\n",
    "plt.legend(loc='lower right')\n",
    "plt.title(\"3D-Densesharp\")\n",
    "plt.savefig('3d sharp_acc.png')"
   ]
  },
  {
   "cell_type": "code",
   "execution_count": 9,
   "metadata": {},
   "outputs": [
    {
     "data": {
      "image/png": "[encoded data removed]",
      "text/plain": [
       "<Figure size 432x288 with 1 Axes>"
      ]
     },
     "metadata": {
      "needs_background": "light"
     },
     "output_type": "display_data"
    }
   ],
   "source": [
    "plt.plot(sharp_hist.history['clf_accuracy'], label='accuracy')\n",
    "plt.plot(sharp_hist.history['clf_loss'], label = 'clf_loss')\n",
    "\n",
    "#plt.plot(net_history2.history['ROC_AUC'], label = 'ROC_AUC')\n",
    "#plt.plot(net_history2.history['ROC_AUC'], label = 'ROC_AUC')\n",
    "plt.xlabel('Epoch')\n",
    "plt.ylabel('train')\n",
    "plt.ylim([0.3, 1])\n",
    "plt.legend(loc='lower right')\n",
    "plt.title(\"3D-Densesharp\")\n",
    "plt.savefig('3d sharpnet trainaccloss.png')"
   ]
  }
 ],
 "metadata": {
  "kernelspec": {
   "display_name": "Python 3",
   "language": "python",
   "name": "python3"
  },
  "language_info": {
   "codemirror_mode": {
    "name": "ipython",
    "version": 3
   },
   "file_extension": ".py",
   "mimetype": "text/x-python",
   "name": "python",
   "nbconvert_exporter": "python",
   "pygments_lexer": "ipython3",
   "version": "3.7.7"
  }
 },
 "nbformat": 4,
 "nbformat_minor": 4
}
